{
 "cells": [
  {
   "cell_type": "markdown",
   "id": "c14788de",
   "metadata": {},
   "source": [
    "This model predicts the status of parking bays (Occupied or unoccupied) using sensor data. \n",
    "\n",
    "The input features are hour, weekday, month, zone number, latitude, and longitude, which are extracted from the given dataset."
   ]
  },
  {
   "cell_type": "markdown",
   "id": "d42949a9",
   "metadata": {},
   "source": [
    "# 0. Import libraries"
   ]
  },
  {
   "cell_type": "code",
   "execution_count": 2,
   "id": "e60fac6f",
   "metadata": {},
   "outputs": [],
   "source": [
    "import pandas as pd\n",
    "from sklearn.model_selection import train_test_split\n",
    "from sklearn.model_selection import GridSearchCV\n",
    "from sklearn.ensemble import RandomForestClassifier\n",
    "from sklearn.metrics import classification_report, accuracy_score, confusion_matrix\n",
    "import joblib"
   ]
  },
  {
   "cell_type": "markdown",
   "id": "487bceb8",
   "metadata": {},
   "source": [
    "# 1. Data loading and preprocessing"
   ]
  },
  {
   "cell_type": "code",
   "execution_count": null,
   "id": "98304752",
   "metadata": {},
   "outputs": [
    {
     "name": "stdout",
     "output_type": "stream",
     "text": [
      "   Zone_Number  hour  weekday  month Status_Description   latitude   longitude\n",
      "0          NaN    10        4      5         Unoccupied -37.823395  144.966748\n",
      "1       7539.0    12        4     10         Unoccupied -37.811640  144.960617\n",
      "2       7550.0     7        2     10            Present -37.809940  144.966355\n",
      "3       7550.0     6        2     10         Unoccupied -37.810365  144.964902\n",
      "4       7549.0     6        2     10         Unoccupied -37.810206  144.965631\n"
     ]
    }
   ],
   "source": [
    "# Load data\n",
    "df = pd.read_csv('on-street-parking-bay-sensors.csv')\n",
    "\n",
    "# Parse Lastupdated as datetime\n",
    "df['Lastupdated'] = pd.to_datetime(df['Lastupdated'])\n",
    "\n",
    "# Extract periodic time features\n",
    "df['hour'] = df['Lastupdated'].dt.hour\n",
    "df['weekday'] = df['Lastupdated'].dt.weekday  # 0=Monday\n",
    "df['month'] = df['Lastupdated'].dt.month\n",
    "\n",
    "# Select required features and output\n",
    "selected_columns = [\n",
    "    'Zone_Number',\n",
    "    'Location',  # split into latitude/longitude\n",
    "    'hour',\n",
    "    'weekday',\n",
    "    'month',\n",
    "    'Status_Description'  # Output variable\n",
    "]\n",
    "\n",
    "df_selected = df[selected_columns].copy()\n",
    "\n",
    "# Split coordinates into separate columns\n",
    "df_selected[['latitude', 'longitude']] = df_selected['Location'].str.split(',', expand=True)\n",
    "df_selected['latitude'] = df_selected['latitude'].astype(float)\n",
    "df_selected['longitude'] = df_selected['longitude'].astype(float)\n",
    "\n",
    "# Drop original Location column\n",
    "df_selected = df_selected.drop(columns=['Location'])\n",
    "\n",
    "# Display processed data\n",
    "print(df_selected.head())"
   ]
  },
  {
   "cell_type": "markdown",
   "id": "8d0e1f29",
   "metadata": {},
   "source": [
    "# 2. Data preparation for modeling"
   ]
  },
  {
   "cell_type": "code",
   "execution_count": 13,
   "id": "047acee0",
   "metadata": {},
   "outputs": [],
   "source": [
    "# Features and labels (Unoccupied=0, Present=1)\n",
    "X = df_selected[['latitude', 'longitude', 'hour', 'weekday', 'month', 'Zone_Number']]\n",
    "y = (df_selected['Status_Description'] == 'Present').astype(int)  # 1=occupied, 0=unoccupied\n",
    "\n",
    "# Split into training and testing sets\n",
    "X_train, X_test, y_train, y_test = train_test_split(\n",
    "    X, y, test_size=0.2, random_state=42, stratify=y\n",
    ")"
   ]
  },
  {
   "cell_type": "markdown",
   "id": "17cecfbd",
   "metadata": {},
   "source": [
    "# 3. Model training and hyperparameter tuning"
   ]
  },
  {
   "cell_type": "code",
   "execution_count": 14,
   "id": "d7d4a1ca",
   "metadata": {},
   "outputs": [
    {
     "name": "stdout",
     "output_type": "stream",
     "text": [
      "Fitting 5 folds for each of 108 candidates, totalling 540 fits\n",
      "Best parameters: {'max_depth': 16, 'max_features': 'sqrt', 'min_samples_leaf': 1, 'min_samples_split': 10, 'n_estimators': 200}\n",
      "Best cross-validation score: 0.6879480686236046\n"
     ]
    }
   ],
   "source": [
    "# Parameter grid for tuning\n",
    "param_grid = {\n",
    "    'n_estimators': [100, 200],            # Number of trees\n",
    "    'max_depth': [8, 12, 16],              # Maximum tree depth\n",
    "    'min_samples_split': [2, 5, 10],       # Minimum samples for node split\n",
    "    'min_samples_leaf': [1, 3, 5],         # Minimum samples in leaf node\n",
    "    'max_features': ['sqrt', 'log2']       # Feature selection method for splits\n",
    "}\n",
    "\n",
    "# Initialize Random Forest model\n",
    "rf = RandomForestClassifier(random_state=42)\n",
    "\n",
    "# Grid search with 5-fold cross-validation\n",
    "grid_search = GridSearchCV(rf, param_grid, cv=5, scoring='accuracy', n_jobs=-1, verbose=2)\n",
    "grid_search.fit(X_train, y_train)\n",
    "\n",
    "print(\"Best parameters:\", grid_search.best_params_)\n",
    "print(\"Best cross-validation score:\", grid_search.best_score_)"
   ]
  },
  {
   "cell_type": "markdown",
   "id": "3bfa3537",
   "metadata": {},
   "source": [
    "# 4. Model evaluation"
   ]
  },
  {
   "cell_type": "code",
   "execution_count": 15,
   "id": "6fa59dca",
   "metadata": {},
   "outputs": [
    {
     "name": "stdout",
     "output_type": "stream",
     "text": [
      "Confusion Matrix:\n",
      "[[245  99]\n",
      " [104 214]]\n",
      "\n",
      "Classification Report:\n",
      "              precision    recall  f1-score   support\n",
      "\n",
      "           0       0.70      0.71      0.71       344\n",
      "           1       0.68      0.67      0.68       318\n",
      "\n",
      "    accuracy                           0.69       662\n",
      "   macro avg       0.69      0.69      0.69       662\n",
      "weighted avg       0.69      0.69      0.69       662\n",
      "\n",
      "\n",
      "Test Accuracy: 0.6933534743202417\n"
     ]
    }
   ],
   "source": [
    "# Evaluate on test set using best model\n",
    "best_rf = grid_search.best_estimator_\n",
    "y_pred = best_rf.predict(X_test)\n",
    "\n",
    "# Confusion matrix\n",
    "print(\"Confusion Matrix:\")\n",
    "print(confusion_matrix(y_test, y_pred))\n",
    "\n",
    "# Classification report\n",
    "print(\"\\nClassification Report:\")\n",
    "print(classification_report(y_test, y_pred))\n",
    "\n",
    "# Overall accuracy\n",
    "print(\"\\nTest Accuracy:\", accuracy_score(y_test, y_pred))"
   ]
  },
  {
   "cell_type": "markdown",
   "id": "9fd19191",
   "metadata": {},
   "source": [
    "# 5. Model saving"
   ]
  },
  {
   "cell_type": "code",
   "execution_count": 16,
   "id": "3a82bbec",
   "metadata": {},
   "outputs": [
    {
     "data": {
      "text/plain": [
       "['best_rf_model.pkl']"
      ]
     },
     "execution_count": 16,
     "metadata": {},
     "output_type": "execute_result"
    }
   ],
   "source": [
    "# Save the trained model\n",
    "joblib.dump(best_rf, 'best_rf_model.pkl')"
   ]
  },
  {
   "cell_type": "markdown",
   "id": "56cd3094",
   "metadata": {},
   "source": [
    "## How to Use This Model for Prediction\n",
    "\n",
    "This model predicts parking occupancy status (`Unoccupied = 0`, `Present = 1`) based on the following input features (columns **must** be in this order):\n",
    "\n",
    "1. `latitude` (float): Latitude of the parking bay  \n",
    "2. `longitude` (float): Longitude of the parking bay  \n",
    "3. `hour` (int): Hour of the day (0–23)  \n",
    "4. `weekday` (int): Day of the week (0 = Monday, 6 = Sunday)  \n",
    "5. `month` (int): Month number (1–12)  \n",
    "6. `Zone_Number` (int): Zone identifier (same as in the given dataset)  \n",
    "\n",
    "### Steps\n",
    "\n",
    "1. Prepare your input data as a pandas DataFrame or a 2D numpy array, with columns in the exact order listed above.\n",
    "2. Load the trained model:\n",
    "\n",
    "   ```python\n",
    "   model = joblib.load('model.pkl')\n",
    "3. Run Prediction\n",
    "   ```python\n",
    "   y_pred = model.predict(X_new)  #y_pred: 0 = unoccupied, 1 = present"
   ]
  },
  {
   "cell_type": "markdown",
   "id": "231b0494",
   "metadata": {},
   "source": [
    "A simple example"
   ]
  },
  {
   "cell_type": "code",
   "execution_count": 7,
   "id": "65cf4d8a",
   "metadata": {},
   "outputs": [
    {
     "name": "stdout",
     "output_type": "stream",
     "text": [
      "[1 1]\n"
     ]
    }
   ],
   "source": [
    "# load new data for prediction\n",
    "X_new = pd.DataFrame([\n",
    "    [-37.814, 144.96332, 8, 1, 8, 12],\n",
    "    [-37.815, 144.96500, 13, 5, 9, 15]\n",
    "], columns=['latitude', 'longitude', 'hour', 'weekday', 'month', 'Zone_Number'])\n",
    "\n",
    "# load the saved model\n",
    "model = joblib.load('best_rf_model.pkl')\n",
    "\n",
    "# Make predictions on new data\n",
    "y_pred = model.predict(X_new)\n",
    "print(y_pred)"
   ]
  }
 ],
 "metadata": {
  "kernelspec": {
   "display_name": "Python 3",
   "language": "python",
   "name": "python3"
  },
  "language_info": {
   "codemirror_mode": {
    "name": "ipython",
    "version": 3
   },
   "file_extension": ".py",
   "mimetype": "text/x-python",
   "name": "python",
   "nbconvert_exporter": "python",
   "pygments_lexer": "ipython3",
   "version": "3.11.9"
  }
 },
 "nbformat": 4,
 "nbformat_minor": 5
}
